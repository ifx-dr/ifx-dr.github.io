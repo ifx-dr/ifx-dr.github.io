{
 "cells": [
  {
   "cell_type": "code",
   "execution_count": 8,
   "id": "5b5dc1bc",
   "metadata": {},
   "outputs": [
    {
     "name": "stdout",
     "output_type": "stream",
     "text": [
      "1047\n",
      "Extraction complete. The filtered graph has been serialized to 'filtered_graph.ttl'\n"
     ]
    }
   ],
   "source": [
    "import rdflib\n",
    "\n",
    "# Step 1: Initialize a graph\n",
    "g = rdflib.Graph()\n",
    "\n",
    "# Step 2: Parse the TTL file\n",
    "g.parse(\"DR_TTL\\dr\\DigitalReference.ttl\", format=\"turtle\")\n",
    "\n",
    "# Step 3: Filter out the triples with your specified IRI\n",
    "iri_prefix = rdflib.URIRef(\"http://www.w3id.org/ecsel-dr-Planning\")\n",
    "filtered_graph = rdflib.Graph()\n",
    "# or o.startswith(iri_prefix)\n",
    "for s, p, o in g:\n",
    "    if s.startswith(iri_prefix) or p.startswith(iri_prefix) :\n",
    "        filtered_graph.add((s, p, o))\n",
    "print(len(filtered_graph))\n",
    "# Step 4: Serialize the filtered graph to a TTL file (or any format you need)\n",
    "filtered_graph.serialize(destination=\"filtered_sp_graph.ttl\", format=\"turtle\")\n",
    "\n",
    "print(\"Extraction complete. The filtered graph has been serialized to 'filtered_graph.ttl'\")\n"
   ]
  }
 ],
 "metadata": {
  "kernelspec": {
   "display_name": "Python 3 (ipykernel)",
   "language": "python",
   "name": "python3"
  },
  "language_info": {
   "codemirror_mode": {
    "name": "ipython",
    "version": 3
   },
   "file_extension": ".py",
   "mimetype": "text/x-python",
   "name": "python",
   "nbconvert_exporter": "python",
   "pygments_lexer": "ipython3",
   "version": "3.10.9"
  }
 },
 "nbformat": 4,
 "nbformat_minor": 5
}
